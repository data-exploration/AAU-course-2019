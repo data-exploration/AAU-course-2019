{
 "cells": [
  {
   "cell_type": "markdown",
   "metadata": {},
   "source": [
    "# Coursework 2 : Movie Recommendation based on Graph\n"
   ]
  },
  {
   "cell_type": "code",
   "execution_count": 1,
   "metadata": {},
   "outputs": [],
   "source": [
    "from collections import Counter\n",
    "from tqdm import tqdm\n",
    "import math\n",
    "import pandas as pd\n",
    "import numpy as np\n",
    "import pickle\n",
    "import networkx as nx\n",
    "import matplotlib.pyplot as plt\n",
    "import json\n",
    "import time\n",
    "import itertools\n",
    "import collections\n",
    "\n",
    "\n",
    "%matplotlib inline"
   ]
  },
  {
   "cell_type": "markdown",
   "metadata": {},
   "source": [
    "## Movies linked thorugh Actors playing characters\n",
    "\n",
    "### Loading movies data and also actors/characters data\n",
    "\n",
    "Character table structure\n",
    "\n",
    "1. Wikipedia movie ID\n",
    "2. Freebase movie ID\n",
    "3. Movie release date\n",
    "4. Character name\n",
    "5. Actor date of birth\n",
    "6. Actor gender\n",
    "7. Actor height (in meters)\n",
    "8. Actor ethnicity (Freebase ID)\n",
    "9. Actor name\n",
    "10. Actor age at movie release\n",
    "11. Freebase character/actor map ID\n",
    "12. Freebase character ID\n",
    "13. Freebase actor ID"
   ]
  },
  {
   "cell_type": "code",
   "execution_count": 2,
   "metadata": {},
   "outputs": [
    {
     "name": "stdout",
     "output_type": "stream",
     "text": [
      "Retrieved 81741 movies\n",
      "Retrieved 450669 characters\n",
      "Kept 27782 movies\n",
      "Kept 201536 characters\n"
     ]
    }
   ],
   "source": [
    "movies_meta=pd.read_csv(\"data/movie.metadata.tsv\", \n",
    "                         sep='\\t', header=None, usecols=[0,1,2,3,8], \n",
    "                         names=['wID', 'fID', 'title', 'date', 'genres'],\n",
    "                         parse_dates=[3]\n",
    "                       )\n",
    "# All movies have at least one character\n",
    "char_meta = pd.read_csv(\"data/character.metadata.tsv\", \n",
    "                         sep='\\t', header=None, usecols=[0,3,7,8,11, 12], \n",
    "                         names=['wID', 'char_name', 'ethnicity', 'act_name', 'fcID', 'faID'])\n",
    "\n",
    "\n",
    "# We filter out movies released before 1997\n",
    "movies_filtered = movies_meta[movies_meta.date.str.match('199[7-9]$|20..$|^20..|^199[7-9]')]\n",
    "mIDs = set(movies_filtered.wID)\n",
    "char_filtered = char_meta[char_meta.wID.isin(mIDs)]\n",
    "\n",
    "## TODO: Add tvtropes\n",
    "print(\"Retrieved {} movies\".format(len(movies_meta)))\n",
    "print(\"Retrieved {} characters\".format(len(char_meta)))\n",
    "\n",
    "print(\"Kept {} movies\".format(len(movies_filtered)))\n",
    "print(\"Kept {} characters\".format(len(char_filtered)))\n",
    "\n",
    "movies_meta = movies_filtered\n",
    "char_meta = char_filtered"
   ]
  },
  {
   "cell_type": "code",
   "execution_count": 3,
   "metadata": {},
   "outputs": [
    {
     "data": {
      "text/html": [
       "<div>\n",
       "<style scoped>\n",
       "    .dataframe tbody tr th:only-of-type {\n",
       "        vertical-align: middle;\n",
       "    }\n",
       "\n",
       "    .dataframe tbody tr th {\n",
       "        vertical-align: top;\n",
       "    }\n",
       "\n",
       "    .dataframe thead th {\n",
       "        text-align: right;\n",
       "    }\n",
       "</style>\n",
       "<table border=\"1\" class=\"dataframe\">\n",
       "  <thead>\n",
       "    <tr style=\"text-align: right;\">\n",
       "      <th></th>\n",
       "      <th>wID</th>\n",
       "      <th>char_name</th>\n",
       "      <th>ethnicity</th>\n",
       "      <th>act_name</th>\n",
       "      <th>fcID</th>\n",
       "      <th>faID</th>\n",
       "    </tr>\n",
       "  </thead>\n",
       "  <tbody>\n",
       "    <tr>\n",
       "      <th>0</th>\n",
       "      <td>975900</td>\n",
       "      <td>Akooshay</td>\n",
       "      <td>NaN</td>\n",
       "      <td>Wanda De Jesus</td>\n",
       "      <td>/m/0bgcj3x</td>\n",
       "      <td>/m/03wcfv7</td>\n",
       "    </tr>\n",
       "    <tr>\n",
       "      <th>1</th>\n",
       "      <td>975900</td>\n",
       "      <td>Lieutenant Melanie Ballard</td>\n",
       "      <td>/m/044038p</td>\n",
       "      <td>Natasha Henstridge</td>\n",
       "      <td>/m/0bgchn4</td>\n",
       "      <td>/m/0346l4</td>\n",
       "    </tr>\n",
       "    <tr>\n",
       "      <th>2</th>\n",
       "      <td>975900</td>\n",
       "      <td>Desolation Williams</td>\n",
       "      <td>/m/0x67</td>\n",
       "      <td>Ice Cube</td>\n",
       "      <td>/m/0bgchn_</td>\n",
       "      <td>/m/01vw26l</td>\n",
       "    </tr>\n",
       "    <tr>\n",
       "      <th>3</th>\n",
       "      <td>975900</td>\n",
       "      <td>Sgt Jericho Butler</td>\n",
       "      <td>NaN</td>\n",
       "      <td>Jason Statham</td>\n",
       "      <td>/m/0bgchnq</td>\n",
       "      <td>/m/034hyc</td>\n",
       "    </tr>\n",
       "    <tr>\n",
       "      <th>4</th>\n",
       "      <td>975900</td>\n",
       "      <td>Bashira Kincaid</td>\n",
       "      <td>NaN</td>\n",
       "      <td>Clea DuVall</td>\n",
       "      <td>/m/0bgchp9</td>\n",
       "      <td>/m/01y9xg</td>\n",
       "    </tr>\n",
       "  </tbody>\n",
       "</table>\n",
       "</div>"
      ],
      "text/plain": [
       "      wID                   char_name   ethnicity            act_name  \\\n",
       "0  975900                    Akooshay         NaN      Wanda De Jesus   \n",
       "1  975900  Lieutenant Melanie Ballard  /m/044038p  Natasha Henstridge   \n",
       "2  975900         Desolation Williams     /m/0x67            Ice Cube   \n",
       "3  975900          Sgt Jericho Butler         NaN       Jason Statham   \n",
       "4  975900             Bashira Kincaid         NaN         Clea DuVall   \n",
       "\n",
       "         fcID        faID  \n",
       "0  /m/0bgcj3x  /m/03wcfv7  \n",
       "1  /m/0bgchn4   /m/0346l4  \n",
       "2  /m/0bgchn_  /m/01vw26l  \n",
       "3  /m/0bgchnq   /m/034hyc  \n",
       "4  /m/0bgchp9   /m/01y9xg  "
      ]
     },
     "execution_count": 3,
     "metadata": {},
     "output_type": "execute_result"
    }
   ],
   "source": [
    "## Contents of the table for characters/actors\n",
    "char_meta.head()"
   ]
  },
  {
   "cell_type": "code",
   "execution_count": 4,
   "metadata": {},
   "outputs": [
    {
     "data": {
      "text/html": [
       "<div>\n",
       "<style scoped>\n",
       "    .dataframe tbody tr th:only-of-type {\n",
       "        vertical-align: middle;\n",
       "    }\n",
       "\n",
       "    .dataframe tbody tr th {\n",
       "        vertical-align: top;\n",
       "    }\n",
       "\n",
       "    .dataframe thead th {\n",
       "        text-align: right;\n",
       "    }\n",
       "</style>\n",
       "<table border=\"1\" class=\"dataframe\">\n",
       "  <thead>\n",
       "    <tr style=\"text-align: right;\">\n",
       "      <th></th>\n",
       "      <th>wID</th>\n",
       "      <th>fID</th>\n",
       "      <th>title</th>\n",
       "      <th>date</th>\n",
       "      <th>genres</th>\n",
       "    </tr>\n",
       "  </thead>\n",
       "  <tbody>\n",
       "    <tr>\n",
       "      <th>0</th>\n",
       "      <td>975900</td>\n",
       "      <td>/m/03vyhn</td>\n",
       "      <td>Ghosts of Mars</td>\n",
       "      <td>2001-08-24</td>\n",
       "      <td>{\"/m/01jfsb\": \"Thriller\", \"/m/06n90\": \"Science...</td>\n",
       "    </tr>\n",
       "    <tr>\n",
       "      <th>1</th>\n",
       "      <td>3196793</td>\n",
       "      <td>/m/08yl5d</td>\n",
       "      <td>Getting Away with Murder: The JonBenét Ramsey ...</td>\n",
       "      <td>2000-02-16</td>\n",
       "      <td>{\"/m/02n4kr\": \"Mystery\", \"/m/03bxz7\": \"Biograp...</td>\n",
       "    </tr>\n",
       "    <tr>\n",
       "      <th>6</th>\n",
       "      <td>18998739</td>\n",
       "      <td>/m/04jcqvw</td>\n",
       "      <td>The Sorcerer's Apprentice</td>\n",
       "      <td>2002</td>\n",
       "      <td>{\"/m/0hqxf\": \"Family Film\", \"/m/01hmnh\": \"Fant...</td>\n",
       "    </tr>\n",
       "    <tr>\n",
       "      <th>12</th>\n",
       "      <td>6631279</td>\n",
       "      <td>/m/0gffwj</td>\n",
       "      <td>Little city</td>\n",
       "      <td>1997-04-04</td>\n",
       "      <td>{\"/m/06cvj\": \"Romantic comedy\", \"/m/0hj3n0w\": ...</td>\n",
       "    </tr>\n",
       "    <tr>\n",
       "      <th>21</th>\n",
       "      <td>612710</td>\n",
       "      <td>/m/02wjqm</td>\n",
       "      <td>New Rose Hotel</td>\n",
       "      <td>1999-10-01</td>\n",
       "      <td>{\"/m/01jfsb\": \"Thriller\", \"/m/06n90\": \"Science...</td>\n",
       "    </tr>\n",
       "  </tbody>\n",
       "</table>\n",
       "</div>"
      ],
      "text/plain": [
       "         wID         fID                                              title  \\\n",
       "0     975900   /m/03vyhn                                     Ghosts of Mars   \n",
       "1    3196793   /m/08yl5d  Getting Away with Murder: The JonBenét Ramsey ...   \n",
       "6   18998739  /m/04jcqvw                          The Sorcerer's Apprentice   \n",
       "12   6631279   /m/0gffwj                                        Little city   \n",
       "21    612710   /m/02wjqm                                     New Rose Hotel   \n",
       "\n",
       "          date                                             genres  \n",
       "0   2001-08-24  {\"/m/01jfsb\": \"Thriller\", \"/m/06n90\": \"Science...  \n",
       "1   2000-02-16  {\"/m/02n4kr\": \"Mystery\", \"/m/03bxz7\": \"Biograp...  \n",
       "6         2002  {\"/m/0hqxf\": \"Family Film\", \"/m/01hmnh\": \"Fant...  \n",
       "12  1997-04-04  {\"/m/06cvj\": \"Romantic comedy\", \"/m/0hj3n0w\": ...  \n",
       "21  1999-10-01  {\"/m/01jfsb\": \"Thriller\", \"/m/06n90\": \"Science...  "
      ]
     },
     "execution_count": 4,
     "metadata": {},
     "output_type": "execute_result"
    }
   ],
   "source": [
    "## Contents of the table for movies\n",
    "movies_meta.head()"
   ]
  },
  {
   "cell_type": "markdown",
   "metadata": {},
   "source": [
    "## Build a graph\n",
    "\n",
    "**In the following we first build a complex large graph with movies, characters/actors, (if we want ethnicity).**\n",
    "\n",
    "**Later we will keep only a smaller version of it.**\n",
    "\n",
    "Process characters and connect with movies, also add movies and actor edges. "
   ]
  },
  {
   "cell_type": "code",
   "execution_count": 7,
   "metadata": {},
   "outputs": [
    {
     "name": "stderr",
     "output_type": "stream",
     "text": [
      "100%|██████████| 27782/27782 [00:02<00:00, 9266.36it/s]\n",
      "100%|██████████| 201536/201536 [00:40<00:00, 5009.51it/s]\n"
     ]
    }
   ],
   "source": [
    "movieG = nx.DiGraph(name='Movie graph')\n",
    "\n",
    "# Add movies as nodes\n",
    "for i,movie in tqdm(movies_meta.iterrows(), total=len(movies_meta)): \n",
    "    movieG.add_node(movie['wID'], title = movie['title'], date = movie['date'], type='movie')\n",
    "\n",
    "\n",
    "# Process the characters and connect with movies\n",
    "for i,character in tqdm(char_meta.iterrows(), total=len(char_meta)):\n",
    "    if not pd.isnull(character['fcID']):  # Check not null\n",
    "        movieG.add_node(character['fcID'], name = character['char_name'], type = 'character')\n",
    "        movieG.add_edge(character['wID'], character['fcID'], label='has_character')\n",
    "        movieG.add_edge(character['fcID'], character['wID'], label='character_of')\n",
    "        \n",
    "    if not pd.isnull(character['faID']): \n",
    "        movieG.add_node(character['faID'], name = character['act_name'], type = 'actor')\n",
    "        movieG.add_edge(character['wID'], character['faID'], label='has_actor')\n",
    "        movieG.add_edge(character['faID'], character['wID'], label='actor_of')\n",
    "        \n",
    "    #if not pd.isnull(character['ethnicity']): \n",
    "    #    movieG.add_edge(character['fcID'], character['ethnicity'], label='ethnicity')\n",
    "\n"
   ]
  },
  {
   "cell_type": "markdown",
   "metadata": {},
   "source": [
    "#### Process movie metadata and add genres \n",
    "\n",
    "**We enrich the graph with nodes about movie-genres**\n",
    "\n",
    "Add meta information to movies"
   ]
  },
  {
   "cell_type": "code",
   "execution_count": 8,
   "metadata": {},
   "outputs": [
    {
     "name": "stderr",
     "output_type": "stream",
     "text": [
      "100%|██████████| 27782/27782 [00:05<00:00, 4856.79it/s]"
     ]
    },
    {
     "name": "stdout",
     "output_type": "stream",
     "text": [
      "Num genres 320\n",
      "Drama # 12200\n",
      "Comedy # 6036\n",
      "Romance Film # 4323\n",
      "Thriller # 4303\n",
      "World cinema # 4121\n",
      "Action # 3528\n",
      "Documentary # 3186\n",
      "Indie # 2966\n",
      "Horror # 2482\n",
      "Crime Fiction # 2385\n"
     ]
    },
    {
     "name": "stderr",
     "output_type": "stream",
     "text": [
      "\n"
     ]
    }
   ],
   "source": [
    "genres_all = Counter() \n",
    "genre_names = {}\n",
    "for i,movie in tqdm(movies_meta.iterrows(), total=len(movies_meta)):     \n",
    "    genres = json.loads(movie['genres'])\n",
    "    for gid, genre in genres.items() : \n",
    "        if not gid in genres_all:\n",
    "            genres_all[gid] = 1\n",
    "            genre_names[gid] = genre\n",
    "            movieG.add_node(gid, title = genre, type='genre')\n",
    "        else:\n",
    "            genres_all.update({gid : 1})\n",
    "            \n",
    "        movieG.add_edge(movie['wID'], gid, label='has_genre')\n",
    "        movieG.add_edge(gid, movie['wID'], label='genre_of')        \n",
    "        \n",
    "print(\"Num genres {}\".format(len(genres_all)))\n",
    "for gid, c in genres_all.most_common(10):\n",
    "    print(\"{} # {}\".format(genre_names[gid], c))"
   ]
  },
  {
   "cell_type": "markdown",
   "metadata": {},
   "source": [
    "#### Print some statistics of the large graph"
   ]
  },
  {
   "cell_type": "code",
   "execution_count": null,
   "metadata": {},
   "outputs": [],
   "source": [
    "print(nx.info(movieG))\n",
    "print('Number of connected components: ', nx.number_weakly_connected_components(movieG))"
   ]
  },
  {
   "cell_type": "markdown",
   "metadata": {},
   "source": [
    "## Smaller graph \n",
    "\n",
    "#### Filter dangling nodes and small connected components\n",
    "This is the first step in cleaning the graph to keep only a smaller version."
   ]
  },
  {
   "cell_type": "code",
   "execution_count": null,
   "metadata": {},
   "outputs": [],
   "source": [
    "# We search for the largest connected component\n",
    "max_comp = max(nx.weakly_connected_components(movieG), key=len)\n",
    "\n",
    "# We remove all nodes in other components\n",
    "to_remove = set() \n",
    "for i,node in tqdm(enumerate(movieG.nodes), total=movieG.number_of_nodes()) : \n",
    "    if node not in max_comp : \n",
    "        to_remove.add(node)\n",
    "movieG.remove_nodes_from(to_remove)\n",
    "print(nx.info(movieG))\n",
    "print('Number of connected components: ', nx.number_weakly_connected_components(movieG))"
   ]
  },
  {
   "cell_type": "markdown",
   "metadata": {},
   "source": [
    "### Undirected graph "
   ]
  },
  {
   "cell_type": "markdown",
   "metadata": {},
   "source": [
    "Construct an undirected graph with less nodes and only movies connected one to the other\n",
    "\n",
    "**Two nodes are connected if they have an actor in common**"
   ]
  },
  {
   "cell_type": "code",
   "execution_count": 9,
   "metadata": {},
   "outputs": [
    {
     "name": "stderr",
     "output_type": "stream",
     "text": [
      "100%|██████████| 208278/208278 [00:02<00:00, 83696.68it/s] "
     ]
    },
    {
     "name": "stdout",
     "output_type": "stream",
     "text": [
      "Done\n"
     ]
    },
    {
     "name": "stderr",
     "output_type": "stream",
     "text": [
      "\n"
     ]
    }
   ],
   "source": [
    "# New graph, this will be undirected\n",
    "movieSG = nx.Graph(name='Movie undirected graph')\n",
    "\n",
    "for i,(nid, node) in tqdm(enumerate(movieG.nodes(data=True)), total=movieG.number_of_nodes()) : \n",
    "    # Get all movies for an actor, and link those movies\n",
    "    if 'type' in node and (node['type'] == 'actor') : \n",
    "        movies = set()\n",
    "        for destid, dest in movieG[nid].items():\n",
    "            if dest['label'] == 'actor_of': \n",
    "                movies.add(destid)\n",
    "        # two edges are added so they are undirected                \n",
    "        for m1, m2 in itertools.combinations(movies, 2): \n",
    "            movieSG.add_edge(m1, m2)\n",
    "    # Get all movies for a genrse, and link those movies  \n",
    "    # This will cause too many links, can we filter out some?\n",
    "    # https://networkx.github.io/documentation/stable/reference/classes/generated/networkx.Graph.degree.html ?\n",
    "#     if 'type' in node and (node['type'] == 'genre') : \n",
    "#         movies = set()\n",
    "#         for destid, dest in movieG[nid].items():\n",
    "#             if dest['label'] == 'genre_of': \n",
    "#                 movies.add(destid)\n",
    "#         # two edges are added so they are undirected\n",
    "#         for m1, m2 in itertools.combinations(movies, 2): \n",
    "#             movieSG.add_edge(m1, m2)   \n",
    "\n",
    "print(\"Done\")"
   ]
  },
  {
   "cell_type": "code",
   "execution_count": null,
   "metadata": {},
   "outputs": [],
   "source": [
    "print(nx.info(movieSG))"
   ]
  },
  {
   "cell_type": "code",
   "execution_count": 10,
   "metadata": {},
   "outputs": [
    {
     "data": {
      "image/png": "[encoded data removed]",
      "text/plain": [
       "<Figure size 1440x432 with 1 Axes>"
      ]
     },
     "metadata": {
      "needs_background": "light"
     },
     "output_type": "display_data"
    }
   ],
   "source": [
    "degree_sequence = sorted([d for n, d in movieSG.degree()], reverse=True)  # degree sequence\n",
    "# print \"Degree sequence\", degree_sequence\n",
    "degreeCount = collections.Counter(degree_sequence)\n",
    "deg, cnt = zip(*degreeCount.items())\n",
    "\n",
    "fig, ax = plt.subplots(figsize=(20, 6))\n",
    "plt.bar(deg, cnt, width=0.80, color='b')\n",
    "\n",
    "plt.title(\"Degree Histogram\")\n",
    "plt.ylabel(\"Count\")\n",
    "plt.xlabel(\"Degree\")\n",
    "ax.set_xticks([d + 0.4 for d in deg])\n",
    "ax.set_xticklabels(deg)\n",
    "plt.show()"
   ]
  },
  {
   "cell_type": "markdown",
   "metadata": {},
   "source": [
    "Compute the Personalized PageRank on the small graph"
   ]
  },
  {
   "cell_type": "code",
   "execution_count": 11,
   "metadata": {},
   "outputs": [],
   "source": [
    "def pagerank(G, p = None): \n",
    "    t = time.time()\n",
    "    pr = nx.pagerank_scipy(G, personalization= p, max_iter=200)\n",
    "    print('scipy PR {} seconds'.format(time.time() - t))\n",
    "    return pr\n",
    "#print(pr)"
   ]
  },
  {
   "cell_type": "code",
   "execution_count": 12,
   "metadata": {},
   "outputs": [
    {
     "data": {
      "text/html": [
       "<div>\n",
       "<style scoped>\n",
       "    .dataframe tbody tr th:only-of-type {\n",
       "        vertical-align: middle;\n",
       "    }\n",
       "\n",
       "    .dataframe tbody tr th {\n",
       "        vertical-align: top;\n",
       "    }\n",
       "\n",
       "    .dataframe thead th {\n",
       "        text-align: right;\n",
       "    }\n",
       "</style>\n",
       "<table border=\"1\" class=\"dataframe\">\n",
       "  <thead>\n",
       "    <tr style=\"text-align: right;\">\n",
       "      <th></th>\n",
       "      <th>wID</th>\n",
       "      <th>fID</th>\n",
       "      <th>title</th>\n",
       "      <th>date</th>\n",
       "      <th>genres</th>\n",
       "    </tr>\n",
       "  </thead>\n",
       "  <tbody>\n",
       "    <tr>\n",
       "      <th>8821</th>\n",
       "      <td>173944</td>\n",
       "      <td>/m/017gm7</td>\n",
       "      <td>The Lord of the Rings: The Two Towers</td>\n",
       "      <td>2002-12-05</td>\n",
       "      <td>{\"/m/0hj3n2k\": \"Fantasy Adventure\", \"/m/03k9fj...</td>\n",
       "    </tr>\n",
       "    <tr>\n",
       "      <th>14677</th>\n",
       "      <td>11310190</td>\n",
       "      <td>/m/02r775q</td>\n",
       "      <td>Ringers: Lord of the Fans</td>\n",
       "      <td>2005</td>\n",
       "      <td>{\"/m/0hj3n07\": \"Culture &amp; Society\", \"/m/0hj3n3...</td>\n",
       "    </tr>\n",
       "    <tr>\n",
       "      <th>22151</th>\n",
       "      <td>4859540</td>\n",
       "      <td>/m/0crck4</td>\n",
       "      <td>Lord of the Beans</td>\n",
       "      <td>2005</td>\n",
       "      <td>{\"/m/02hmvc\": \"Short Film\", \"/m/04t36\": \"Music...</td>\n",
       "    </tr>\n",
       "    <tr>\n",
       "      <th>31785</th>\n",
       "      <td>4161153</td>\n",
       "      <td>/m/0bmdws</td>\n",
       "      <td>Lord of the Wing</td>\n",
       "      <td>2004</td>\n",
       "      <td>{\"/m/0jtdp\": \"Documentary\"}</td>\n",
       "    </tr>\n",
       "    <tr>\n",
       "      <th>65840</th>\n",
       "      <td>2643692</td>\n",
       "      <td>/m/07twr5</td>\n",
       "      <td>Lord of War</td>\n",
       "      <td>2005-09-16</td>\n",
       "      <td>{\"/m/01jfsb\": \"Thriller\", \"/m/0lsxr\": \"Crime F...</td>\n",
       "    </tr>\n",
       "    <tr>\n",
       "      <th>79973</th>\n",
       "      <td>173941</td>\n",
       "      <td>/m/017gl1</td>\n",
       "      <td>The Lord of the Rings: The Fellowship of the Ring</td>\n",
       "      <td>2001-12-10</td>\n",
       "      <td>{\"/m/0hj3n2k\": \"Fantasy Adventure\", \"/m/03k9fj...</td>\n",
       "    </tr>\n",
       "    <tr>\n",
       "      <th>80920</th>\n",
       "      <td>174251</td>\n",
       "      <td>/m/017jd9</td>\n",
       "      <td>The Lord of the Rings: The Return of the King</td>\n",
       "      <td>2003-12-17</td>\n",
       "      <td>{\"/m/0hj3n2k\": \"Fantasy Adventure\", \"/m/03k9fj...</td>\n",
       "    </tr>\n",
       "  </tbody>\n",
       "</table>\n",
       "</div>"
      ],
      "text/plain": [
       "            wID         fID  \\\n",
       "8821     173944   /m/017gm7   \n",
       "14677  11310190  /m/02r775q   \n",
       "22151   4859540   /m/0crck4   \n",
       "31785   4161153   /m/0bmdws   \n",
       "65840   2643692   /m/07twr5   \n",
       "79973    173941   /m/017gl1   \n",
       "80920    174251   /m/017jd9   \n",
       "\n",
       "                                                   title        date  \\\n",
       "8821               The Lord of the Rings: The Two Towers  2002-12-05   \n",
       "14677                          Ringers: Lord of the Fans        2005   \n",
       "22151                                  Lord of the Beans        2005   \n",
       "31785                                   Lord of the Wing        2004   \n",
       "65840                                        Lord of War  2005-09-16   \n",
       "79973  The Lord of the Rings: The Fellowship of the Ring  2001-12-10   \n",
       "80920      The Lord of the Rings: The Return of the King  2003-12-17   \n",
       "\n",
       "                                                  genres  \n",
       "8821   {\"/m/0hj3n2k\": \"Fantasy Adventure\", \"/m/03k9fj...  \n",
       "14677  {\"/m/0hj3n07\": \"Culture & Society\", \"/m/0hj3n3...  \n",
       "22151  {\"/m/02hmvc\": \"Short Film\", \"/m/04t36\": \"Music...  \n",
       "31785                        {\"/m/0jtdp\": \"Documentary\"}  \n",
       "65840  {\"/m/01jfsb\": \"Thriller\", \"/m/0lsxr\": \"Crime F...  \n",
       "79973  {\"/m/0hj3n2k\": \"Fantasy Adventure\", \"/m/03k9fj...  \n",
       "80920  {\"/m/0hj3n2k\": \"Fantasy Adventure\", \"/m/03k9fj...  "
      ]
     },
     "execution_count": 12,
     "metadata": {},
     "output_type": "execute_result"
    }
   ],
   "source": [
    "movies_meta[movies_meta.title.str.match('.*Lord of.*')]"
   ]
  },
  {
   "cell_type": "code",
   "execution_count": 13,
   "metadata": {},
   "outputs": [
    {
     "name": "stdout",
     "output_type": "stream",
     "text": [
      "scipy PR 4.370622873306274 seconds\n"
     ]
    }
   ],
   "source": [
    "pr = pagerank(movieSG, p={173941 : 1})\n",
    "sorted_nodes = [\n",
    "    w  for (w, _) in sorted(pr.items(), key=lambda kv: kv[1], reverse=True)\n",
    "]"
   ]
  },
  {
   "cell_type": "code",
   "execution_count": 14,
   "metadata": {},
   "outputs": [
    {
     "name": "stdout",
     "output_type": "stream",
     "text": [
      "[173941, 174251, 173944, 17608105, 14482638, 20223641, 323715, 3006708, 1141438, 2029825]\n"
     ]
    }
   ],
   "source": [
    "print(sorted_nodes[:10])"
   ]
  },
  {
   "cell_type": "code",
   "execution_count": 15,
   "metadata": {},
   "outputs": [
    {
     "data": {
      "text/html": [
       "<div>\n",
       "<style scoped>\n",
       "    .dataframe tbody tr th:only-of-type {\n",
       "        vertical-align: middle;\n",
       "    }\n",
       "\n",
       "    .dataframe tbody tr th {\n",
       "        vertical-align: top;\n",
       "    }\n",
       "\n",
       "    .dataframe thead th {\n",
       "        text-align: right;\n",
       "    }\n",
       "</style>\n",
       "<table border=\"1\" class=\"dataframe\">\n",
       "  <thead>\n",
       "    <tr style=\"text-align: right;\">\n",
       "      <th></th>\n",
       "      <th>wID</th>\n",
       "      <th>fID</th>\n",
       "      <th>title</th>\n",
       "      <th>date</th>\n",
       "      <th>genres</th>\n",
       "    </tr>\n",
       "  </thead>\n",
       "  <tbody>\n",
       "    <tr>\n",
       "      <th>5359</th>\n",
       "      <td>323715</td>\n",
       "      <td>/m/01vw8k</td>\n",
       "      <td>Troy</td>\n",
       "      <td>2004-05-13</td>\n",
       "      <td>{\"/m/01lmb_\": \"Sword and Sandal\", \"/m/03k9fj\":...</td>\n",
       "    </tr>\n",
       "    <tr>\n",
       "      <th>8821</th>\n",
       "      <td>173944</td>\n",
       "      <td>/m/017gm7</td>\n",
       "      <td>The Lord of the Rings: The Two Towers</td>\n",
       "      <td>2002-12-05</td>\n",
       "      <td>{\"/m/0hj3n2k\": \"Fantasy Adventure\", \"/m/03k9fj...</td>\n",
       "    </tr>\n",
       "    <tr>\n",
       "      <th>9719</th>\n",
       "      <td>14482638</td>\n",
       "      <td>/m/04jpg2p</td>\n",
       "      <td>Alice in Wonderland</td>\n",
       "      <td>2010-03-05</td>\n",
       "      <td>{\"/m/01zhp\": \"Computer Animation\", \"/m/0hqxf\":...</td>\n",
       "    </tr>\n",
       "    <tr>\n",
       "      <th>18469</th>\n",
       "      <td>2029825</td>\n",
       "      <td>/m/06gb1w</td>\n",
       "      <td>X-Men: The Last Stand</td>\n",
       "      <td>2006-05-23</td>\n",
       "      <td>{\"/m/01jfsb\": \"Thriller\", \"/m/06n90\": \"Science...</td>\n",
       "    </tr>\n",
       "    <tr>\n",
       "      <th>50589</th>\n",
       "      <td>3006708</td>\n",
       "      <td>/m/08k40m</td>\n",
       "      <td>Hot Fuzz</td>\n",
       "      <td>2007-02-14</td>\n",
       "      <td>{\"/m/0gf28\": \"Parody\", \"/m/0lsxr\": \"Crime Fict...</td>\n",
       "    </tr>\n",
       "  </tbody>\n",
       "</table>\n",
       "</div>"
      ],
      "text/plain": [
       "            wID         fID                                  title  \\\n",
       "5359     323715   /m/01vw8k                                   Troy   \n",
       "8821     173944   /m/017gm7  The Lord of the Rings: The Two Towers   \n",
       "9719   14482638  /m/04jpg2p                    Alice in Wonderland   \n",
       "18469   2029825   /m/06gb1w                  X-Men: The Last Stand   \n",
       "50589   3006708   /m/08k40m                               Hot Fuzz   \n",
       "\n",
       "             date                                             genres  \n",
       "5359   2004-05-13  {\"/m/01lmb_\": \"Sword and Sandal\", \"/m/03k9fj\":...  \n",
       "8821   2002-12-05  {\"/m/0hj3n2k\": \"Fantasy Adventure\", \"/m/03k9fj...  \n",
       "9719   2010-03-05  {\"/m/01zhp\": \"Computer Animation\", \"/m/0hqxf\":...  \n",
       "18469  2006-05-23  {\"/m/01jfsb\": \"Thriller\", \"/m/06n90\": \"Science...  \n",
       "50589  2007-02-14  {\"/m/0gf28\": \"Parody\", \"/m/0lsxr\": \"Crime Fict...  "
      ]
     },
     "execution_count": 15,
     "metadata": {},
     "output_type": "execute_result"
    }
   ],
   "source": [
    "movies_meta[movies_meta.wID.isin(sorted_nodes[:10])].head()"
   ]
  },
  {
   "cell_type": "markdown",
   "metadata": {},
   "source": [
    "## Exercise\n",
    "\n",
    "- *Option 1* : PPR now \n"
   ]
  }
 ],
 "metadata": {
  "kernelspec": {
   "display_name": "Python 3",
   "language": "python",
   "name": "python3"
  },
  "language_info": {
   "codemirror_mode": {
    "name": "ipython",
    "version": 3
   },
   "file_extension": ".py",
   "mimetype": "text/x-python",
   "name": "python",
   "nbconvert_exporter": "python",
   "pygments_lexer": "ipython3",
   "version": "3.7.3"
  }
 },
 "nbformat": 4,
 "nbformat_minor": 2
}
