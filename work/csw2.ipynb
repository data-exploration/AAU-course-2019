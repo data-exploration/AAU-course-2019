{
 "cells": [
  {
   "cell_type": "code",
   "execution_count": 1,
   "metadata": {},
   "outputs": [],
   "source": [
    "from collections import Counter\n",
    "from tqdm import tqdm\n",
    "import math\n",
    "import pandas as pd\n",
    "import numpy as np\n",
    "import pickle\n",
    "import networkx as nx\n",
    "import matplotlib.pyplot as plt\n",
    "import json\n",
    "import time\n",
    "import itertools\n",
    "import collections\n",
    "\n",
    "\n",
    "%matplotlib inline"
   ]
  },
  {
   "cell_type": "markdown",
   "metadata": {},
   "source": [
    "Character table structure\n",
    "\n",
    "1. Wikipedia movie ID\n",
    "2. Freebase movie ID\n",
    "3. Movie release date\n",
    "4. Character name\n",
    "5. Actor date of birth\n",
    "6. Actor gender\n",
    "7. Actor height (in meters)\n",
    "8. Actor ethnicity (Freebase ID)\n",
    "9. Actor name\n",
    "10. Actor age at movie release\n",
    "11. Freebase character/actor map ID\n",
    "12. Freebase character ID\n",
    "13. Freebase actor ID"
   ]
  },
  {
   "cell_type": "code",
   "execution_count": 63,
   "metadata": {},
   "outputs": [
    {
     "name": "stdout",
     "output_type": "stream",
     "text": [
      "Retrieved 81741 movies\n",
      "Retrieved 450669 characters\n",
      "Retrieved 27782 movies\n",
      "Retrieved 201536 characters\n"
     ]
    }
   ],
   "source": [
    "movies_meta=pd.read_csv(\"data/movie.metadata.tsv\", \n",
    "                         sep='\\t', header=None, usecols=[0,1,2,3,8], \n",
    "                         names=['wID', 'fID', 'title', 'date', 'genres'],\n",
    "                         parse_dates=[3]\n",
    "                       )\n",
    "# All movies have at least one character\n",
    "char_meta = pd.read_csv(\"data/character.metadata.tsv\", \n",
    "                         sep='\\t', header=None, usecols=[0,3,7,8,11, 12], \n",
    "                         names=['wID', 'char_name', 'ethnicity', 'act_name', 'fcID', 'faID'])\n",
    "\n",
    "movies_filtered = movies_meta[movies_meta.date.str.match('199[7-9]$|20..$|^20..|^199[7-9]')]\n",
    "mIDs = set(movies_filtered.wID)\n",
    "char_filtered = char_meta[char_meta.wID.isin(mIDs)]\n",
    "\n",
    "## TODO: Add tvtropes\n",
    "print(\"Retrieved {} movies\".format(len(movies_meta)))\n",
    "print(\"Retrieved {} characters\".format(len(char_meta)))\n",
    "\n",
    "print(\"Retrieved {} movies\".format(len(movies_filtered)))\n",
    "print(\"Retrieved {} characters\".format(len(char_filtered)))\n",
    "\n",
    "movies_meta = movies_filtered\n",
    "char_meta = char_filtered"
   ]
  },
  {
   "cell_type": "code",
   "execution_count": 64,
   "metadata": {},
   "outputs": [
    {
     "data": {
      "text/html": [
       "<div>\n",
       "<style scoped>\n",
       "    .dataframe tbody tr th:only-of-type {\n",
       "        vertical-align: middle;\n",
       "    }\n",
       "\n",
       "    .dataframe tbody tr th {\n",
       "        vertical-align: top;\n",
       "    }\n",
       "\n",
       "    .dataframe thead th {\n",
       "        text-align: right;\n",
       "    }\n",
       "</style>\n",
       "<table border=\"1\" class=\"dataframe\">\n",
       "  <thead>\n",
       "    <tr style=\"text-align: right;\">\n",
       "      <th></th>\n",
       "      <th>wID</th>\n",
       "      <th>char_name</th>\n",
       "      <th>ethnicity</th>\n",
       "      <th>act_name</th>\n",
       "      <th>fcID</th>\n",
       "      <th>faID</th>\n",
       "    </tr>\n",
       "  </thead>\n",
       "  <tbody>\n",
       "    <tr>\n",
       "      <th>0</th>\n",
       "      <td>975900</td>\n",
       "      <td>Akooshay</td>\n",
       "      <td>NaN</td>\n",
       "      <td>Wanda De Jesus</td>\n",
       "      <td>/m/0bgcj3x</td>\n",
       "      <td>/m/03wcfv7</td>\n",
       "    </tr>\n",
       "    <tr>\n",
       "      <th>1</th>\n",
       "      <td>975900</td>\n",
       "      <td>Lieutenant Melanie Ballard</td>\n",
       "      <td>/m/044038p</td>\n",
       "      <td>Natasha Henstridge</td>\n",
       "      <td>/m/0bgchn4</td>\n",
       "      <td>/m/0346l4</td>\n",
       "    </tr>\n",
       "    <tr>\n",
       "      <th>2</th>\n",
       "      <td>975900</td>\n",
       "      <td>Desolation Williams</td>\n",
       "      <td>/m/0x67</td>\n",
       "      <td>Ice Cube</td>\n",
       "      <td>/m/0bgchn_</td>\n",
       "      <td>/m/01vw26l</td>\n",
       "    </tr>\n",
       "    <tr>\n",
       "      <th>3</th>\n",
       "      <td>975900</td>\n",
       "      <td>Sgt Jericho Butler</td>\n",
       "      <td>NaN</td>\n",
       "      <td>Jason Statham</td>\n",
       "      <td>/m/0bgchnq</td>\n",
       "      <td>/m/034hyc</td>\n",
       "    </tr>\n",
       "    <tr>\n",
       "      <th>4</th>\n",
       "      <td>975900</td>\n",
       "      <td>Bashira Kincaid</td>\n",
       "      <td>NaN</td>\n",
       "      <td>Clea DuVall</td>\n",
       "      <td>/m/0bgchp9</td>\n",
       "      <td>/m/01y9xg</td>\n",
       "    </tr>\n",
       "  </tbody>\n",
       "</table>\n",
       "</div>"
      ],
      "text/plain": [
       "      wID                   char_name   ethnicity            act_name  \\\n",
       "0  975900                    Akooshay         NaN      Wanda De Jesus   \n",
       "1  975900  Lieutenant Melanie Ballard  /m/044038p  Natasha Henstridge   \n",
       "2  975900         Desolation Williams     /m/0x67            Ice Cube   \n",
       "3  975900          Sgt Jericho Butler         NaN       Jason Statham   \n",
       "4  975900             Bashira Kincaid         NaN         Clea DuVall   \n",
       "\n",
       "         fcID        faID  \n",
       "0  /m/0bgcj3x  /m/03wcfv7  \n",
       "1  /m/0bgchn4   /m/0346l4  \n",
       "2  /m/0bgchn_  /m/01vw26l  \n",
       "3  /m/0bgchnq   /m/034hyc  \n",
       "4  /m/0bgchp9   /m/01y9xg  "
      ]
     },
     "execution_count": 64,
     "metadata": {},
     "output_type": "execute_result"
    }
   ],
   "source": [
    "char_meta.head()"
   ]
  },
  {
   "cell_type": "code",
   "execution_count": 65,
   "metadata": {},
   "outputs": [
    {
     "data": {
      "text/html": [
       "<div>\n",
       "<style scoped>\n",
       "    .dataframe tbody tr th:only-of-type {\n",
       "        vertical-align: middle;\n",
       "    }\n",
       "\n",
       "    .dataframe tbody tr th {\n",
       "        vertical-align: top;\n",
       "    }\n",
       "\n",
       "    .dataframe thead th {\n",
       "        text-align: right;\n",
       "    }\n",
       "</style>\n",
       "<table border=\"1\" class=\"dataframe\">\n",
       "  <thead>\n",
       "    <tr style=\"text-align: right;\">\n",
       "      <th></th>\n",
       "      <th>wID</th>\n",
       "      <th>fID</th>\n",
       "      <th>title</th>\n",
       "      <th>date</th>\n",
       "      <th>genres</th>\n",
       "    </tr>\n",
       "  </thead>\n",
       "  <tbody>\n",
       "    <tr>\n",
       "      <th>0</th>\n",
       "      <td>975900</td>\n",
       "      <td>/m/03vyhn</td>\n",
       "      <td>Ghosts of Mars</td>\n",
       "      <td>2001-08-24</td>\n",
       "      <td>{\"/m/01jfsb\": \"Thriller\", \"/m/06n90\": \"Science...</td>\n",
       "    </tr>\n",
       "    <tr>\n",
       "      <th>1</th>\n",
       "      <td>3196793</td>\n",
       "      <td>/m/08yl5d</td>\n",
       "      <td>Getting Away with Murder: The JonBenét Ramsey ...</td>\n",
       "      <td>2000-02-16</td>\n",
       "      <td>{\"/m/02n4kr\": \"Mystery\", \"/m/03bxz7\": \"Biograp...</td>\n",
       "    </tr>\n",
       "    <tr>\n",
       "      <th>6</th>\n",
       "      <td>18998739</td>\n",
       "      <td>/m/04jcqvw</td>\n",
       "      <td>The Sorcerer's Apprentice</td>\n",
       "      <td>2002</td>\n",
       "      <td>{\"/m/0hqxf\": \"Family Film\", \"/m/01hmnh\": \"Fant...</td>\n",
       "    </tr>\n",
       "    <tr>\n",
       "      <th>12</th>\n",
       "      <td>6631279</td>\n",
       "      <td>/m/0gffwj</td>\n",
       "      <td>Little city</td>\n",
       "      <td>1997-04-04</td>\n",
       "      <td>{\"/m/06cvj\": \"Romantic comedy\", \"/m/0hj3n0w\": ...</td>\n",
       "    </tr>\n",
       "    <tr>\n",
       "      <th>21</th>\n",
       "      <td>612710</td>\n",
       "      <td>/m/02wjqm</td>\n",
       "      <td>New Rose Hotel</td>\n",
       "      <td>1999-10-01</td>\n",
       "      <td>{\"/m/01jfsb\": \"Thriller\", \"/m/06n90\": \"Science...</td>\n",
       "    </tr>\n",
       "  </tbody>\n",
       "</table>\n",
       "</div>"
      ],
      "text/plain": [
       "         wID         fID                                              title  \\\n",
       "0     975900   /m/03vyhn                                     Ghosts of Mars   \n",
       "1    3196793   /m/08yl5d  Getting Away with Murder: The JonBenét Ramsey ...   \n",
       "6   18998739  /m/04jcqvw                          The Sorcerer's Apprentice   \n",
       "12   6631279   /m/0gffwj                                        Little city   \n",
       "21    612710   /m/02wjqm                                     New Rose Hotel   \n",
       "\n",
       "          date                                             genres  \n",
       "0   2001-08-24  {\"/m/01jfsb\": \"Thriller\", \"/m/06n90\": \"Science...  \n",
       "1   2000-02-16  {\"/m/02n4kr\": \"Mystery\", \"/m/03bxz7\": \"Biograp...  \n",
       "6         2002  {\"/m/0hqxf\": \"Family Film\", \"/m/01hmnh\": \"Fant...  \n",
       "12  1997-04-04  {\"/m/06cvj\": \"Romantic comedy\", \"/m/0hj3n0w\": ...  \n",
       "21  1999-10-01  {\"/m/01jfsb\": \"Thriller\", \"/m/06n90\": \"Science...  "
      ]
     },
     "execution_count": 65,
     "metadata": {},
     "output_type": "execute_result"
    }
   ],
   "source": [
    "movies_meta.head()"
   ]
  },
  {
   "cell_type": "markdown",
   "metadata": {},
   "source": [
    "Process characters and connect with movies, also add movies and actor edges. "
   ]
  },
  {
   "cell_type": "code",
   "execution_count": 66,
   "metadata": {},
   "outputs": [
    {
     "name": "stderr",
     "output_type": "stream",
     "text": [
      "100%|██████████| 201536/201536 [00:59<00:00, 3386.15it/s]\n"
     ]
    }
   ],
   "source": [
    "movieG = nx.DiGraph(name='Movie graph')\n",
    "\n",
    "# Process the characters and connect with movies\n",
    "for i,character in tqdm(char_meta.iterrows(), total=len(char_meta)):\n",
    "    if not pd.isnull(character['fcID']):  # Check not null\n",
    "        movieG.add_edge(character['wID'], character['fcID'], label='has_character')\n",
    "        movieG.add_edge(character['fcID'], character['wID'], label='character_of')\n",
    "    if not pd.isnull(character['faID']): \n",
    "        movieG.add_edge(character['wID'], character['faID'], label='has_actor')\n",
    "        movieG.add_edge(character['faID'], character['wID'], label='actor_of')\n",
    "    if not pd.isnull(character['ethnicity']): \n",
    "        movieG.add_edge(character['fcID'], character['ethnicity'], label='ethnicity')\n",
    "    movieG.add_node(character['fcID'], name = character['char_name'], type = 'character')\n",
    "    movieG.add_node(character['faID'], name = character['act_name'], type = 'actor')"
   ]
  },
  {
   "cell_type": "markdown",
   "metadata": {},
   "source": [
    "### Process movie metadata and add genres \n",
    "\n",
    "Add meta information to movies"
   ]
  },
  {
   "cell_type": "code",
   "execution_count": 67,
   "metadata": {},
   "outputs": [
    {
     "name": "stderr",
     "output_type": "stream",
     "text": [
      "100%|██████████| 27782/27782 [00:06<00:00, 4368.74it/s]\n"
     ]
    }
   ],
   "source": [
    "genres_all = dict() \n",
    "\n",
    "for i,movie in tqdm(movies_meta.iterrows(), total=len(movies_meta)): \n",
    "    movieG.add_node(movie['wID'], title = movie['title'], date = movie['date'], type='movie')\n",
    "    genres = json.loads(movie['genres'])\n",
    "    for gid, genre in genres.items() : \n",
    "        genres_all[gid] = genre\n",
    "        movieG.add_edge(movie['wID'], genre, label='genre')"
   ]
  },
  {
   "cell_type": "markdown",
   "metadata": {},
   "source": [
    "Print some statistics of the graph"
   ]
  },
  {
   "cell_type": "code",
   "execution_count": 68,
   "metadata": {},
   "outputs": [
    {
     "name": "stdout",
     "output_type": "stream",
     "text": [
      "Name: Movie graph\n",
      "Type: DiGraph\n",
      "Number of nodes: 208715\n",
      "Number of edges: 740974\n",
      "Average in degree:   3.5502\n",
      "Average out degree:   3.5502\n",
      "Number of connected components:  196\n"
     ]
    }
   ],
   "source": [
    "print(nx.info(movieG))\n",
    "print('Number of connected components: ', nx.number_weakly_connected_components(movieG))"
   ]
  },
  {
   "cell_type": "markdown",
   "metadata": {},
   "source": [
    "Filter dangling nodes and small connected components"
   ]
  },
  {
   "cell_type": "code",
   "execution_count": 69,
   "metadata": {},
   "outputs": [
    {
     "name": "stderr",
     "output_type": "stream",
     "text": [
      "100%|██████████| 208715/208715 [00:01<00:00, 206747.83it/s]\n"
     ]
    },
    {
     "name": "stdout",
     "output_type": "stream",
     "text": [
      "Name: Movie graph\n",
      "Type: DiGraph\n",
      "Number of nodes: 208464\n",
      "Number of edges: 740862\n",
      "Average in degree:   3.5539\n",
      "Average out degree:   3.5539\n"
     ]
    }
   ],
   "source": [
    "max_comp = max(nx.weakly_connected_components(movieG), key=len)\n",
    "to_remove = set() \n",
    "for i,node in tqdm(enumerate(movieG.nodes), total=movieG.number_of_nodes()) : \n",
    "    if node not in max_comp : \n",
    "        to_remove.add(node)\n",
    "movieG.remove_nodes_from(to_remove)\n",
    "print(nx.info(movieG))"
   ]
  },
  {
   "cell_type": "code",
   "execution_count": null,
   "metadata": {},
   "outputs": [],
   "source": [
    "print(movieG[975900])\n",
    "char_meta.loc[char_meta['wID'] == '975900']"
   ]
  },
  {
   "cell_type": "markdown",
   "metadata": {},
   "source": [
    "## Smaller graph "
   ]
  },
  {
   "cell_type": "markdown",
   "metadata": {},
   "source": [
    "Construct a more tractable graph with less nodes and only movies and genres"
   ]
  },
  {
   "cell_type": "code",
   "execution_count": 70,
   "metadata": {},
   "outputs": [
    {
     "name": "stderr",
     "output_type": "stream",
     "text": [
      "100%|██████████| 208464/208464 [00:03<00:00, 54011.20it/s] \n"
     ]
    }
   ],
   "source": [
    "movieSG = nx.Graph(name='Movie small graph')\n",
    "\n",
    "for i,(nid, node) in tqdm(enumerate(movieG.nodes(data=True)), total=movieG.number_of_nodes()) : \n",
    "    if 'type' in node and (node['type'] == 'actor') : \n",
    "#     if 'type' in node and (node['type'] == 'actor' or node['type'] == 'character') : \n",
    "        movies = set()\n",
    "        for destid, dest in movieG[nid].items(): \n",
    "#             if dest['label'] == 'actor_of' or dest['label'] == 'character_of': \n",
    "            if dest['label'] == 'actor_of': \n",
    "                movies.add(destid)\n",
    "        for m1, m2 in itertools.combinations(movies, 2): \n",
    "            movieSG.add_edge(m1, m2)"
   ]
  },
  {
   "cell_type": "code",
   "execution_count": 71,
   "metadata": {},
   "outputs": [
    {
     "name": "stdout",
     "output_type": "stream",
     "text": [
      "Name: Movie small graph\n",
      "Type: Graph\n",
      "Number of nodes: 21923\n",
      "Number of edges: 981049\n",
      "Average degree:  89.4995\n"
     ]
    }
   ],
   "source": [
    "print(nx.info(movieSG))"
   ]
  },
  {
   "cell_type": "code",
   "execution_count": 72,
   "metadata": {},
   "outputs": [
    {
     "data": {
      "image/png": "[encoded data removed]",
      "text/plain": [
       "<Figure size 432x288 with 1 Axes>"
      ]
     },
     "metadata": {
      "needs_background": "light"
     },
     "output_type": "display_data"
    }
   ],
   "source": [
    "degree_sequence = sorted([d for n, d in movieSG.degree()], reverse=True)  # degree sequence\n",
    "# print \"Degree sequence\", degree_sequence\n",
    "degreeCount = collections.Counter(degree_sequence)\n",
    "deg, cnt = zip(*degreeCount.items())\n",
    "\n",
    "fig, ax = plt.subplots()\n",
    "plt.bar(deg, cnt, width=0.80, color='b')\n",
    "\n",
    "plt.title(\"Degree Histogram\")\n",
    "plt.ylabel(\"Count\")\n",
    "plt.xlabel(\"Degree\")\n",
    "ax.set_xticks([d + 0.4 for d in deg])\n",
    "ax.set_xticklabels(deg)\n",
    "plt.show()"
   ]
  },
  {
   "cell_type": "code",
   "execution_count": 73,
   "metadata": {},
   "outputs": [
    {
     "ename": "SyntaxError",
     "evalue": "invalid syntax (<ipython-input-73-4436c2656a25>, line 1)",
     "output_type": "error",
     "traceback": [
      "\u001b[0;36m  File \u001b[0;32m\"<ipython-input-73-4436c2656a25>\"\u001b[0;36m, line \u001b[0;32m1\u001b[0m\n\u001b[0;31m    Compute the Personalized PageRank on the small graph\u001b[0m\n\u001b[0m              ^\u001b[0m\n\u001b[0;31mSyntaxError\u001b[0m\u001b[0;31m:\u001b[0m invalid syntax\n"
     ]
    }
   ],
   "source": [
    "Compute the Personalized PageRank on the small graph"
   ]
  },
  {
   "cell_type": "code",
   "execution_count": 80,
   "metadata": {},
   "outputs": [],
   "source": [
    "def pagerank(G, p = None): \n",
    "    t = time.time()\n",
    "    pr = nx.pagerank_scipy(G, personalization= p, max_iter=200)\n",
    "    print('scipy PR {} seconds'.format(time.time() - t))\n",
    "    return pr\n",
    "#print(pr)"
   ]
  },
  {
   "cell_type": "code",
   "execution_count": 77,
   "metadata": {},
   "outputs": [
    {
     "data": {
      "text/html": [
       "<div>\n",
       "<style scoped>\n",
       "    .dataframe tbody tr th:only-of-type {\n",
       "        vertical-align: middle;\n",
       "    }\n",
       "\n",
       "    .dataframe tbody tr th {\n",
       "        vertical-align: top;\n",
       "    }\n",
       "\n",
       "    .dataframe thead th {\n",
       "        text-align: right;\n",
       "    }\n",
       "</style>\n",
       "<table border=\"1\" class=\"dataframe\">\n",
       "  <thead>\n",
       "    <tr style=\"text-align: right;\">\n",
       "      <th></th>\n",
       "      <th>wID</th>\n",
       "      <th>fID</th>\n",
       "      <th>title</th>\n",
       "      <th>date</th>\n",
       "      <th>genres</th>\n",
       "    </tr>\n",
       "  </thead>\n",
       "  <tbody>\n",
       "    <tr>\n",
       "      <th>555</th>\n",
       "      <td>30548208</td>\n",
       "      <td>/m/0g9wdmc</td>\n",
       "      <td>The Iron Lady</td>\n",
       "      <td>2011-12-26</td>\n",
       "      <td>{\"/m/017fp\": \"Biography\", \"/m/07s9rl0\": \"Drama\"}</td>\n",
       "    </tr>\n",
       "    <tr>\n",
       "      <th>1202</th>\n",
       "      <td>24708749</td>\n",
       "      <td>/m/04yg13l</td>\n",
       "      <td>Ironclad</td>\n",
       "      <td>2011-03-04</td>\n",
       "      <td>{\"/m/02kdv5l\": \"Action\", \"/m/02p0szs\": \"Histor...</td>\n",
       "    </tr>\n",
       "    <tr>\n",
       "      <th>1591</th>\n",
       "      <td>2261407</td>\n",
       "      <td>/m/06_1x0</td>\n",
       "      <td>3-Iron</td>\n",
       "      <td>2004</td>\n",
       "      <td>{\"/m/0lsxr\": \"Crime Fiction\", \"/m/0gw5n2f\": \"J...</td>\n",
       "    </tr>\n",
       "    <tr>\n",
       "      <th>2352</th>\n",
       "      <td>22144721</td>\n",
       "      <td>/m/05qbckf</td>\n",
       "      <td>Iron Man 2</td>\n",
       "      <td>2010-04-26</td>\n",
       "      <td>{\"/m/03btsm8\": \"Action/Adventure\", \"/m/01jfsb\"...</td>\n",
       "    </tr>\n",
       "    <tr>\n",
       "      <th>5092</th>\n",
       "      <td>1164646</td>\n",
       "      <td>/m/04cq1k</td>\n",
       "      <td>Iron Jawed Angels</td>\n",
       "      <td>2004-01-16</td>\n",
       "      <td>{\"/m/0219x_\": \"Indie\", \"/m/01f9r0\": \"Docudrama...</td>\n",
       "    </tr>\n",
       "    <tr>\n",
       "      <th>5114</th>\n",
       "      <td>842825</td>\n",
       "      <td>/m/03g7m3</td>\n",
       "      <td>The Iron Giant</td>\n",
       "      <td>1999-07-31</td>\n",
       "      <td>{\"/m/06n90\": \"Science Fiction\", \"/m/03k9fj\": \"...</td>\n",
       "    </tr>\n",
       "    <tr>\n",
       "      <th>6986</th>\n",
       "      <td>11036762</td>\n",
       "      <td>/m/02qyv3h</td>\n",
       "      <td>Iron Sky</td>\n",
       "      <td>2012-02-11</td>\n",
       "      <td>{\"/m/05p553\": \"Comedy film\", \"/m/02kdv5l\": \"Ac...</td>\n",
       "    </tr>\n",
       "    <tr>\n",
       "      <th>20960</th>\n",
       "      <td>30849012</td>\n",
       "      <td>/m/0gffxdg</td>\n",
       "      <td>Iron Invader</td>\n",
       "      <td>2011-02-12</td>\n",
       "      <td>{\"/m/06n90\": \"Science Fiction\", \"/m/07s9rl0\": ...</td>\n",
       "    </tr>\n",
       "    <tr>\n",
       "      <th>22651</th>\n",
       "      <td>5838045</td>\n",
       "      <td>/m/0f88sr</td>\n",
       "      <td>Hellboy: Blood and Iron</td>\n",
       "      <td>2007-03-17</td>\n",
       "      <td>{\"/m/01jfsb\": \"Thriller\", \"/m/03npn\": \"Horror\"...</td>\n",
       "    </tr>\n",
       "    <tr>\n",
       "      <th>22796</th>\n",
       "      <td>5109880</td>\n",
       "      <td>/m/0d329_</td>\n",
       "      <td>The Iron Ladies</td>\n",
       "      <td>2000-03-08</td>\n",
       "      <td>{\"/m/0hn10\": \"LGBT\", \"/m/0gsy3b\": \"Sex comedy\"...</td>\n",
       "    </tr>\n",
       "    <tr>\n",
       "      <th>24229</th>\n",
       "      <td>9398619</td>\n",
       "      <td>/m/02877n7</td>\n",
       "      <td>The Lady Iron Chef</td>\n",
       "      <td>2007</td>\n",
       "      <td>{\"/m/0gw5qqq\": \"Chinese Movies\", \"/m/03q4nz\": ...</td>\n",
       "    </tr>\n",
       "    <tr>\n",
       "      <th>29965</th>\n",
       "      <td>21186389</td>\n",
       "      <td>/m/05b_3pl</td>\n",
       "      <td>Iron Maiden: Flight 666</td>\n",
       "      <td>2009-04-21</td>\n",
       "      <td>{\"/m/04rlf\": \"Music\", \"/m/0jtdp\": \"Documentary\"}</td>\n",
       "    </tr>\n",
       "    <tr>\n",
       "      <th>32911</th>\n",
       "      <td>5169996</td>\n",
       "      <td>/m/0d61px</td>\n",
       "      <td>The Man in the Iron Mask</td>\n",
       "      <td>1998-03-13</td>\n",
       "      <td>{\"/m/03btsm8\": \"Action/Adventure\", \"/m/07s9rl0...</td>\n",
       "    </tr>\n",
       "    <tr>\n",
       "      <th>34767</th>\n",
       "      <td>15201865</td>\n",
       "      <td>/m/03hlpsc</td>\n",
       "      <td>Iron Wall</td>\n",
       "      <td>2007</td>\n",
       "      <td>{\"/m/0jtdp\": \"Documentary\"}</td>\n",
       "    </tr>\n",
       "    <tr>\n",
       "      <th>35062</th>\n",
       "      <td>14711303</td>\n",
       "      <td>/m/03gtzf8</td>\n",
       "      <td>The Irony of Fate 2</td>\n",
       "      <td>2007-12-21</td>\n",
       "      <td>{\"/m/06cvj\": \"Romantic comedy\", \"/m/07s9rl0\": ...</td>\n",
       "    </tr>\n",
       "    <tr>\n",
       "      <th>37601</th>\n",
       "      <td>22144990</td>\n",
       "      <td>/m/0bc1yhb</td>\n",
       "      <td>Iron Man 3</td>\n",
       "      <td>2013-04-24</td>\n",
       "      <td>{\"/m/06n90\": \"Science Fiction\", \"/m/02kdv5l\": ...</td>\n",
       "    </tr>\n",
       "    <tr>\n",
       "      <th>46322</th>\n",
       "      <td>30840944</td>\n",
       "      <td>/m/0gfdpg8</td>\n",
       "      <td>The Man with the Iron Fists</td>\n",
       "      <td>2012-11-02</td>\n",
       "      <td>{\"/m/04t2t\": \"Martial Arts Film\"}</td>\n",
       "    </tr>\n",
       "    <tr>\n",
       "      <th>46672</th>\n",
       "      <td>5676692</td>\n",
       "      <td>/m/0dzlbx</td>\n",
       "      <td>Iron Man</td>\n",
       "      <td>2008-04-14</td>\n",
       "      <td>{\"/m/01jfsb\": \"Thriller\", \"/m/06n90\": \"Science...</td>\n",
       "    </tr>\n",
       "    <tr>\n",
       "      <th>50338</th>\n",
       "      <td>25124848</td>\n",
       "      <td>/m/027mb9h</td>\n",
       "      <td>The Invincible Iron Man</td>\n",
       "      <td>2007-01-23</td>\n",
       "      <td>{\"/m/06n90\": \"Science Fiction\", \"/m/04pbhw\": \"...</td>\n",
       "    </tr>\n",
       "    <tr>\n",
       "      <th>59674</th>\n",
       "      <td>24171686</td>\n",
       "      <td>/m/07k9lck</td>\n",
       "      <td>My Grandmother Ironed the King's Shirts</td>\n",
       "      <td>2001</td>\n",
       "      <td>{\"/m/0hj3myq\": \"Children's/Family\", \"/m/0hcr\":...</td>\n",
       "    </tr>\n",
       "    <tr>\n",
       "      <th>61261</th>\n",
       "      <td>23524959</td>\n",
       "      <td>/m/06w1yyw</td>\n",
       "      <td>Iron Road</td>\n",
       "      <td>2009</td>\n",
       "      <td>{\"/m/07s9rl0\": \"Drama\"}</td>\n",
       "    </tr>\n",
       "    <tr>\n",
       "      <th>69772</th>\n",
       "      <td>6258743</td>\n",
       "      <td>/m/0fz9_f</td>\n",
       "      <td>The Adventure of Iron Pussy</td>\n",
       "      <td>2003</td>\n",
       "      <td>{\"/m/0hn10\": \"LGBT\", \"/m/0btmb\": \"Superhero\", ...</td>\n",
       "    </tr>\n",
       "    <tr>\n",
       "      <th>79124</th>\n",
       "      <td>34212324</td>\n",
       "      <td>/m/0crzgny</td>\n",
       "      <td>Classic Albums: Iron Maiden: Number of the Beast</td>\n",
       "      <td>2001</td>\n",
       "      <td>{\"/m/04rlf\": \"Music\", \"/m/0jtdp\": \"Documentary\"}</td>\n",
       "    </tr>\n",
       "    <tr>\n",
       "      <th>81451</th>\n",
       "      <td>17437799</td>\n",
       "      <td>/m/0465t90</td>\n",
       "      <td>Iron Cross</td>\n",
       "      <td>2009</td>\n",
       "      <td>{\"/m/01jfsb\": \"Thriller\", \"/m/028v3\": \"Detecti...</td>\n",
       "    </tr>\n",
       "  </tbody>\n",
       "</table>\n",
       "</div>"
      ],
      "text/plain": [
       "            wID         fID                                             title  \\\n",
       "555    30548208  /m/0g9wdmc                                     The Iron Lady   \n",
       "1202   24708749  /m/04yg13l                                          Ironclad   \n",
       "1591    2261407   /m/06_1x0                                            3-Iron   \n",
       "2352   22144721  /m/05qbckf                                        Iron Man 2   \n",
       "5092    1164646   /m/04cq1k                                 Iron Jawed Angels   \n",
       "5114     842825   /m/03g7m3                                    The Iron Giant   \n",
       "6986   11036762  /m/02qyv3h                                          Iron Sky   \n",
       "20960  30849012  /m/0gffxdg                                      Iron Invader   \n",
       "22651   5838045   /m/0f88sr                           Hellboy: Blood and Iron   \n",
       "22796   5109880   /m/0d329_                                   The Iron Ladies   \n",
       "24229   9398619  /m/02877n7                                The Lady Iron Chef   \n",
       "29965  21186389  /m/05b_3pl                           Iron Maiden: Flight 666   \n",
       "32911   5169996   /m/0d61px                          The Man in the Iron Mask   \n",
       "34767  15201865  /m/03hlpsc                                         Iron Wall   \n",
       "35062  14711303  /m/03gtzf8                               The Irony of Fate 2   \n",
       "37601  22144990  /m/0bc1yhb                                        Iron Man 3   \n",
       "46322  30840944  /m/0gfdpg8                       The Man with the Iron Fists   \n",
       "46672   5676692   /m/0dzlbx                                          Iron Man   \n",
       "50338  25124848  /m/027mb9h                           The Invincible Iron Man   \n",
       "59674  24171686  /m/07k9lck           My Grandmother Ironed the King's Shirts   \n",
       "61261  23524959  /m/06w1yyw                                         Iron Road   \n",
       "69772   6258743   /m/0fz9_f                       The Adventure of Iron Pussy   \n",
       "79124  34212324  /m/0crzgny  Classic Albums: Iron Maiden: Number of the Beast   \n",
       "81451  17437799  /m/0465t90                                        Iron Cross   \n",
       "\n",
       "             date                                             genres  \n",
       "555    2011-12-26   {\"/m/017fp\": \"Biography\", \"/m/07s9rl0\": \"Drama\"}  \n",
       "1202   2011-03-04  {\"/m/02kdv5l\": \"Action\", \"/m/02p0szs\": \"Histor...  \n",
       "1591         2004  {\"/m/0lsxr\": \"Crime Fiction\", \"/m/0gw5n2f\": \"J...  \n",
       "2352   2010-04-26  {\"/m/03btsm8\": \"Action/Adventure\", \"/m/01jfsb\"...  \n",
       "5092   2004-01-16  {\"/m/0219x_\": \"Indie\", \"/m/01f9r0\": \"Docudrama...  \n",
       "5114   1999-07-31  {\"/m/06n90\": \"Science Fiction\", \"/m/03k9fj\": \"...  \n",
       "6986   2012-02-11  {\"/m/05p553\": \"Comedy film\", \"/m/02kdv5l\": \"Ac...  \n",
       "20960  2011-02-12  {\"/m/06n90\": \"Science Fiction\", \"/m/07s9rl0\": ...  \n",
       "22651  2007-03-17  {\"/m/01jfsb\": \"Thriller\", \"/m/03npn\": \"Horror\"...  \n",
       "22796  2000-03-08  {\"/m/0hn10\": \"LGBT\", \"/m/0gsy3b\": \"Sex comedy\"...  \n",
       "24229        2007  {\"/m/0gw5qqq\": \"Chinese Movies\", \"/m/03q4nz\": ...  \n",
       "29965  2009-04-21   {\"/m/04rlf\": \"Music\", \"/m/0jtdp\": \"Documentary\"}  \n",
       "32911  1998-03-13  {\"/m/03btsm8\": \"Action/Adventure\", \"/m/07s9rl0...  \n",
       "34767        2007                        {\"/m/0jtdp\": \"Documentary\"}  \n",
       "35062  2007-12-21  {\"/m/06cvj\": \"Romantic comedy\", \"/m/07s9rl0\": ...  \n",
       "37601  2013-04-24  {\"/m/06n90\": \"Science Fiction\", \"/m/02kdv5l\": ...  \n",
       "46322  2012-11-02                  {\"/m/04t2t\": \"Martial Arts Film\"}  \n",
       "46672  2008-04-14  {\"/m/01jfsb\": \"Thriller\", \"/m/06n90\": \"Science...  \n",
       "50338  2007-01-23  {\"/m/06n90\": \"Science Fiction\", \"/m/04pbhw\": \"...  \n",
       "59674        2001  {\"/m/0hj3myq\": \"Children's/Family\", \"/m/0hcr\":...  \n",
       "61261        2009                            {\"/m/07s9rl0\": \"Drama\"}  \n",
       "69772        2003  {\"/m/0hn10\": \"LGBT\", \"/m/0btmb\": \"Superhero\", ...  \n",
       "79124        2001   {\"/m/04rlf\": \"Music\", \"/m/0jtdp\": \"Documentary\"}  \n",
       "81451        2009  {\"/m/01jfsb\": \"Thriller\", \"/m/028v3\": \"Detecti...  "
      ]
     },
     "execution_count": 77,
     "metadata": {},
     "output_type": "execute_result"
    }
   ],
   "source": [
    "movies_meta[movies_meta.title.str.match('.*Iron.*')]"
   ]
  },
  {
   "cell_type": "code",
   "execution_count": 81,
   "metadata": {},
   "outputs": [
    {
     "name": "stdout",
     "output_type": "stream",
     "text": [
      "scipy PR 4.978851079940796 seconds\n"
     ]
    }
   ],
   "source": [
    "pr = pagerank(movieSG, p={5676692 : 1})\n",
    "sorted_nodes = [\n",
    "    w  for (w, _) in sorted(pr.items(), key=lambda kv: kv[1], reverse=True)\n",
    "]"
   ]
  },
  {
   "cell_type": "code",
   "execution_count": 82,
   "metadata": {},
   "outputs": [
    {
     "name": "stdout",
     "output_type": "stream",
     "text": [
      "[5676692, 22144721, 22114132, 22144990, 1022566, 723288, 2654186, 11942501, 2374400, 506119]\n"
     ]
    }
   ],
   "source": [
    "print(sorted_nodes[:10])"
   ]
  },
  {
   "cell_type": "code",
   "execution_count": 83,
   "metadata": {},
   "outputs": [
    {
     "data": {
      "text/html": [
       "<div>\n",
       "<style scoped>\n",
       "    .dataframe tbody tr th:only-of-type {\n",
       "        vertical-align: middle;\n",
       "    }\n",
       "\n",
       "    .dataframe tbody tr th {\n",
       "        vertical-align: top;\n",
       "    }\n",
       "\n",
       "    .dataframe thead th {\n",
       "        text-align: right;\n",
       "    }\n",
       "</style>\n",
       "<table border=\"1\" class=\"dataframe\">\n",
       "  <thead>\n",
       "    <tr style=\"text-align: right;\">\n",
       "      <th></th>\n",
       "      <th>wID</th>\n",
       "      <th>fID</th>\n",
       "      <th>title</th>\n",
       "      <th>date</th>\n",
       "      <th>genres</th>\n",
       "    </tr>\n",
       "  </thead>\n",
       "  <tbody>\n",
       "    <tr>\n",
       "      <th>1312</th>\n",
       "      <td>2374400</td>\n",
       "      <td>/m/077dlr</td>\n",
       "      <td>Our Friend, Martin</td>\n",
       "      <td>1999</td>\n",
       "      <td>{\"/m/0hj3myq\": \"Children's/Family\", \"/m/02h8pk...</td>\n",
       "    </tr>\n",
       "    <tr>\n",
       "      <th>2352</th>\n",
       "      <td>22144721</td>\n",
       "      <td>/m/05qbckf</td>\n",
       "      <td>Iron Man 2</td>\n",
       "      <td>2010-04-26</td>\n",
       "      <td>{\"/m/03btsm8\": \"Action/Adventure\", \"/m/01jfsb\"...</td>\n",
       "    </tr>\n",
       "    <tr>\n",
       "      <th>28192</th>\n",
       "      <td>22114132</td>\n",
       "      <td>/m/062zm5h</td>\n",
       "      <td>The Avengers</td>\n",
       "      <td>2012-04-11</td>\n",
       "      <td>{\"/m/06n90\": \"Science Fiction\", \"/m/02kdv5l\": ...</td>\n",
       "    </tr>\n",
       "    <tr>\n",
       "      <th>37601</th>\n",
       "      <td>22144990</td>\n",
       "      <td>/m/0bc1yhb</td>\n",
       "      <td>Iron Man 3</td>\n",
       "      <td>2013-04-24</td>\n",
       "      <td>{\"/m/06n90\": \"Science Fiction\", \"/m/02kdv5l\": ...</td>\n",
       "    </tr>\n",
       "    <tr>\n",
       "      <th>46672</th>\n",
       "      <td>5676692</td>\n",
       "      <td>/m/0dzlbx</td>\n",
       "      <td>Iron Man</td>\n",
       "      <td>2008-04-14</td>\n",
       "      <td>{\"/m/01jfsb\": \"Thriller\", \"/m/06n90\": \"Science...</td>\n",
       "    </tr>\n",
       "  </tbody>\n",
       "</table>\n",
       "</div>"
      ],
      "text/plain": [
       "            wID         fID               title        date  \\\n",
       "1312    2374400   /m/077dlr  Our Friend, Martin        1999   \n",
       "2352   22144721  /m/05qbckf          Iron Man 2  2010-04-26   \n",
       "28192  22114132  /m/062zm5h        The Avengers  2012-04-11   \n",
       "37601  22144990  /m/0bc1yhb          Iron Man 3  2013-04-24   \n",
       "46672   5676692   /m/0dzlbx            Iron Man  2008-04-14   \n",
       "\n",
       "                                                  genres  \n",
       "1312   {\"/m/0hj3myq\": \"Children's/Family\", \"/m/02h8pk...  \n",
       "2352   {\"/m/03btsm8\": \"Action/Adventure\", \"/m/01jfsb\"...  \n",
       "28192  {\"/m/06n90\": \"Science Fiction\", \"/m/02kdv5l\": ...  \n",
       "37601  {\"/m/06n90\": \"Science Fiction\", \"/m/02kdv5l\": ...  \n",
       "46672  {\"/m/01jfsb\": \"Thriller\", \"/m/06n90\": \"Science...  "
      ]
     },
     "execution_count": 83,
     "metadata": {},
     "output_type": "execute_result"
    }
   ],
   "source": [
    "movies_meta[movies_meta.wID.isin(sorted_nodes[:10])].head()"
   ]
  },
  {
   "cell_type": "code",
   "execution_count": null,
   "metadata": {},
   "outputs": [],
   "source": []
  }
 ],
 "metadata": {
  "kernelspec": {
   "display_name": "Python 3",
   "language": "python",
   "name": "python3"
  },
  "language_info": {
   "codemirror_mode": {
    "name": "ipython",
    "version": 3
   },
   "file_extension": ".py",
   "mimetype": "text/x-python",
   "name": "python",
   "nbconvert_exporter": "python",
   "pygments_lexer": "ipython3",
   "version": "3.7.3"
  }
 },
 "nbformat": 4,
 "nbformat_minor": 2
}
