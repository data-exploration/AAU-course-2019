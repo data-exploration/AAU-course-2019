{
 "cells": [
  {
   "cell_type": "markdown",
   "metadata": {},
   "source": [
    "# Coursework 1 : Movie Recommendation from Text\n"
   ]
  },
  {
   "cell_type": "code",
   "execution_count": 1,
   "metadata": {},
   "outputs": [],
   "source": [
    "from collections import Counter\n",
    "import math\n",
    "import pandas as pd\n",
    "import pickle"
   ]
  },
  {
   "cell_type": "markdown",
   "metadata": {},
   "source": [
    "Load documents from file and process them"
   ]
  },
  {
   "cell_type": "code",
   "execution_count": 2,
   "metadata": {},
   "outputs": [
    {
     "name": "stdout",
     "output_type": "stream",
     "text": [
      "Retrieved 42204 \n"
     ]
    }
   ],
   "source": [
    "movies_meta=pd.read_csv(\"data/movie.metadata.tsv\", \n",
    "                         sep='\\t', header=None, usecols=[0,1,2,3,8], \n",
    "                         names=['wID', 'fID', 'title', 'data', 'genres' ])\n",
    "\n",
    "movies_plot=pd.read_csv(\"data/plot_summaries.txt\", \n",
    "                         sep='\\t', header=None, usecols=[0,1], \n",
    "                         names=['wID', 'plot'])\n",
    "\n",
    "movies_merged = pd.merge(movies_meta, movies_plot, on='wID', how='inner')\n",
    "    \n",
    "print(\"Retrieved {} \".format(len(movies_merged)))\n",
    "\n",
    "with open(\"data/vocabulary.pk\",\"rb\") as pickle_in:\n",
    "    vocabulary = pickle.load(pickle_in)\n",
    "\n",
    "with open(\"data/tf_idf.pk\",\"rb\") as pickle_in:\n",
    "    tf_idf = pickle.load(pickle_in)\n",
    "    \n",
    "# print stats"
   ]
  },
  {
   "cell_type": "markdown",
   "metadata": {},
   "source": [
    "Compute similarity between target and other docs"
   ]
  },
  {
   "cell_type": "code",
   "execution_count": 5,
   "metadata": {},
   "outputs": [
    {
     "name": "stdout",
     "output_type": "stream",
     "text": [
      "Mary Poppins 1.0\n",
      "Sabata 0.15344422092958465\n",
      "Afterglow 0.1703957922421328\n",
      "Sesame Street presents Follow That Bird 0.15247784609524465\n",
      "done\n"
     ]
    }
   ],
   "source": [
    "def analyze(target_row):  \n",
    "  tfidf =  tf_idf[target_row['wID']]\n",
    "  num_words = 20\n",
    "  sorted_tfidf = [\n",
    "    w  for (w, _) in sorted(tfidf.items(), key=lambda kv: kv[1], reverse=True)\n",
    "  ]\n",
    "  print(target_row['title'])\n",
    "  print(\"Higher TF-IDF: {}\".format(sorted_tfidf[:num_words]))\n",
    "\n",
    "\n",
    "def cosine_dic(dic1,dic2):\n",
    "    numerator = 0\n",
    "    dena = 0\n",
    "    for key1,val1 in dic1.items():\n",
    "        numerator += val1*dic2.get(key1,0.0)\n",
    "        dena += val1*val1\n",
    "    denb = 0\n",
    "    for val2 in dic2.values():\n",
    "        denb += val2*val2\n",
    "    return numerator/math.sqrt(dena*denb)    \n",
    "    \n",
    "def similar(target_1, target_2):\n",
    "    tfidf1 = tf_idf[target_1['wID']]\n",
    "    tfidf2 = tf_idf[target_2['wID']]\n",
    "    return cosine_dic(tfidf1, tfidf2)\n",
    "    \n",
    "    \n",
    "    \n",
    "\n",
    "\n",
    "target_1 = movies_merged.loc[movies_merged['title'] == \"Mary Poppins\"].iloc[0]\n",
    "\n",
    "#target_2 = movies_merged.loc[movies_merged['title'] == \"Grease\"].values[0]\n",
    "\n",
    "#analyze(target_1)\n",
    "#analyze(target_2)\n",
    "\n",
    "countp = 0\n",
    "for idx, movie in movies_merged.iterrows():\n",
    "    scr = similar(target_1, movie)\n",
    "    if scr > 0.15:\n",
    "        print(\"{} {}\".format(movie['title'], scr)) \n",
    "    countp+=1\n",
    "    if countp > 1099:\n",
    "        break\n",
    "print('done')\n",
    "\n",
    "# analyze_page(\"Moana\")\n",
    "# analyze_page(\"The Incredibles 2004\")\n",
    "# analyze_page(\"Monsters, Inc\")"
   ]
  }
 ],
 "metadata": {
  "kernelspec": {
   "display_name": "Python 3",
   "language": "python",
   "name": "python3"
  },
  "language_info": {
   "codemirror_mode": {
    "name": "ipython",
    "version": 3
   },
   "file_extension": ".py",
   "mimetype": "text/x-python",
   "name": "python",
   "nbconvert_exporter": "python",
   "pygments_lexer": "ipython3",
   "version": "3.7.3"
  }
 },
 "nbformat": 4,
 "nbformat_minor": 2
}
